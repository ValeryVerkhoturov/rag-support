{
 "cells": [
  {
   "cell_type": "code",
   "execution_count": 76,
   "outputs": [
    {
     "name": "stdout",
     "output_type": "stream",
     "text": [
      "The dotenv extension is already loaded. To reload it, use:\n",
      "  %reload_ext dotenv\n"
     ]
    }
   ],
   "source": [
    "%load_ext dotenv\n",
    "%dotenv"
   ],
   "metadata": {
    "collapsed": false,
    "ExecuteTime": {
     "end_time": "2023-12-31T09:24:53.121463Z",
     "start_time": "2023-12-31T09:24:53.106117Z"
    }
   },
   "id": "5bfd242a64ebd180"
  },
  {
   "cell_type": "code",
   "execution_count": 75,
   "outputs": [],
   "source": [
    "import requests\n",
    "import math\n",
    "import pandas as pd\n",
    "import os\n",
    "from tqdm import tqdm"
   ],
   "metadata": {
    "collapsed": false,
    "ExecuteTime": {
     "start_time": "2023-12-31T09:24:52.805045Z"
    }
   },
   "id": "initial_id"
  },
  {
   "cell_type": "code",
   "execution_count": 84,
   "outputs": [],
   "source": [
    "!mkdir data"
   ],
   "metadata": {
    "collapsed": false,
    "ExecuteTime": {
     "end_time": "2023-12-31T11:28:30.776042Z",
     "start_time": "2023-12-31T11:28:30.602561Z"
    }
   },
   "id": "c02b426b74babef7"
  },
  {
   "cell_type": "markdown",
   "source": [
    "# Scraping intents"
   ],
   "metadata": {
    "collapsed": false
   },
   "id": "b273b99d91ff7121"
  },
  {
   "cell_type": "code",
   "execution_count": 85,
   "outputs": [
    {
     "name": "stderr",
     "output_type": "stream",
     "text": [
      "100%|██████████| 8/8 [00:01<00:00,  4.53it/s]\n"
     ]
    }
   ],
   "source": [
    "def get_intents_df():\n",
    "    intents_url = \"https://c.selsup-team.ru/api/bot/findIntent\"\n",
    "    total_count = 3815\n",
    "    limit = 500\n",
    "    headers = {\n",
    "        \"Cookie\": os.getenv(\"SELSUP_COOKIE\")\n",
    "    }\n",
    "    \n",
    "    df = pd.DataFrame(columns=['id', 'text', 'pattern', 'intentId', 'groupId', 'answer'])\n",
    "    \n",
    "    for page in tqdm(range(math.ceil(total_count / limit))):\n",
    "        res = requests.get(\n",
    "            intents_url, \n",
    "            params={\"limit\": limit, \"count\": True, \"page\": page+1}, \n",
    "            headers=headers\n",
    "        )\n",
    "        rows = res.json()[\"rows\"]\n",
    "        df = pd.concat([df, pd.DataFrame(rows)], ignore_index=True)\n",
    "    return df\n",
    "\n",
    "intents_df = get_intents_df()"
   ],
   "metadata": {
    "collapsed": false,
    "ExecuteTime": {
     "end_time": "2023-12-31T11:28:48.240772Z",
     "start_time": "2023-12-31T11:28:46.457076Z"
    }
   },
   "id": "a369ed8b9d33c5ed"
  },
  {
   "cell_type": "code",
   "execution_count": 86,
   "outputs": [],
   "source": [
    "intents_df.to_csv(\"data/intents.csv\", index=False)"
   ],
   "metadata": {
    "collapsed": false,
    "ExecuteTime": {
     "end_time": "2023-12-31T11:28:58.806990Z",
     "start_time": "2023-12-31T11:28:58.763560Z"
    }
   },
   "id": "797725c2d4e7db27"
  },
  {
   "cell_type": "code",
   "execution_count": 90,
   "outputs": [
    {
     "name": "stdout",
     "output_type": "stream",
     "text": [
      "<class 'pandas.core.frame.DataFrame'>\n",
      "RangeIndex: 3815 entries, 0 to 3814\n",
      "Data columns (total 6 columns):\n",
      " #   Column    Non-Null Count  Dtype \n",
      "---  ------    --------------  ----- \n",
      " 0   id        3815 non-null   object\n",
      " 1   text      3815 non-null   object\n",
      " 2   pattern   0 non-null      object\n",
      " 3   intentId  3815 non-null   object\n",
      " 4   groupId   0 non-null      object\n",
      " 5   answer    3815 non-null   object\n",
      "dtypes: object(6)\n",
      "memory usage: 179.0+ KB\n"
     ]
    }
   ],
   "source": [
    "intents_df.info()"
   ],
   "metadata": {
    "collapsed": false,
    "ExecuteTime": {
     "end_time": "2023-12-31T11:30:18.509727Z",
     "start_time": "2023-12-31T11:30:18.503136Z"
    }
   },
   "id": "6032e409531ed322"
  },
  {
   "cell_type": "markdown",
   "source": [
    "# Scraping messages"
   ],
   "metadata": {
    "collapsed": false
   },
   "id": "88d4130934517937"
  },
  {
   "cell_type": "code",
   "execution_count": 87,
   "outputs": [
    {
     "name": "stderr",
     "output_type": "stream",
     "text": [
      "100%|██████████| 72/72 [00:15<00:00,  4.70it/s]\n"
     ]
    }
   ],
   "source": [
    "def remove_now_answered_column(df):\n",
    "    return df.drop(['nowAnswered'], axis=1)\n",
    "\n",
    "def get_messages_df():\n",
    "    messages_url = \"https://c.selsup-team.ru/api/bot/findMessage\"\n",
    "    total_count = 35574\n",
    "    limit = 500\n",
    "    headers = {\n",
    "        \"Cookie\": os.getenv(\"SELSUP_COOKIE\")\n",
    "    }\n",
    "    \n",
    "    df = pd.DataFrame(columns=['answer', 'answered', 'chatId', \n",
    "                               'clientId', 'messageId', \"success\", \n",
    "                               \"text\"])\n",
    "    \n",
    "    for page in tqdm(range(math.ceil(total_count / limit))):\n",
    "        res = requests.get(\n",
    "            messages_url, \n",
    "            params={\"limit\": limit, \"count\": True, \"page\": page + 1, \n",
    "                    \"sortBy\": \"TIMESTAMP\", \"ascending\": False}, \n",
    "            headers=headers\n",
    "        )\n",
    "        rows = res.json()[\"rows\"]\n",
    "        df = pd.concat([df, pd.DataFrame(rows)], ignore_index=True) \n",
    "    return df.pipe(remove_now_answered_column)\n",
    "\n",
    "messages_df = get_messages_df()"
   ],
   "metadata": {
    "collapsed": false,
    "ExecuteTime": {
     "end_time": "2023-12-31T11:29:43.158330Z",
     "start_time": "2023-12-31T11:29:27.831430Z"
    }
   },
   "id": "ad5cd4a4364e2589"
  },
  {
   "cell_type": "code",
   "execution_count": 88,
   "outputs": [],
   "source": [
    "messages_df.to_csv(\"data/messages.csv\", index=False)"
   ],
   "metadata": {
    "collapsed": false,
    "ExecuteTime": {
     "end_time": "2023-12-31T11:29:46.107905Z",
     "start_time": "2023-12-31T11:29:45.969984Z"
    }
   },
   "id": "102b690530b564b8"
  },
  {
   "cell_type": "code",
   "execution_count": 91,
   "outputs": [
    {
     "name": "stdout",
     "output_type": "stream",
     "text": [
      "<class 'pandas.core.frame.DataFrame'>\n",
      "RangeIndex: 35576 entries, 0 to 35575\n",
      "Data columns (total 7 columns):\n",
      " #   Column     Non-Null Count  Dtype \n",
      "---  ------     --------------  ----- \n",
      " 0   answer     8414 non-null   object\n",
      " 1   answered   35576 non-null  object\n",
      " 2   chatId     35576 non-null  object\n",
      " 3   clientId   35576 non-null  object\n",
      " 4   messageId  35576 non-null  object\n",
      " 5   success    35576 non-null  object\n",
      " 6   text       35576 non-null  object\n",
      "dtypes: object(7)\n",
      "memory usage: 1.9+ MB\n"
     ]
    }
   ],
   "source": [
    "messages_df.info()"
   ],
   "metadata": {
    "collapsed": false,
    "ExecuteTime": {
     "end_time": "2023-12-31T11:30:37.106641Z",
     "start_time": "2023-12-31T11:30:37.053825Z"
    }
   },
   "id": "965a93da7c6be8e1"
  },
  {
   "cell_type": "code",
   "execution_count": null,
   "outputs": [],
   "source": [],
   "metadata": {
    "collapsed": false
   },
   "id": "2d4cdc5cc19a8322"
  }
 ],
 "metadata": {
  "kernelspec": {
   "display_name": "Python 3",
   "language": "python",
   "name": "python3"
  },
  "language_info": {
   "codemirror_mode": {
    "name": "ipython",
    "version": 2
   },
   "file_extension": ".py",
   "mimetype": "text/x-python",
   "name": "python",
   "nbconvert_exporter": "python",
   "pygments_lexer": "ipython2",
   "version": "2.7.6"
  }
 },
 "nbformat": 4,
 "nbformat_minor": 5
}
