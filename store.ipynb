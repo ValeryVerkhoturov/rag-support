{
 "cells": [
  {
   "cell_type": "code",
   "execution_count": 34,
   "id": "initial_id",
   "metadata": {
    "collapsed": true,
    "ExecuteTime": {
     "end_time": "2023-12-31T14:06:34.774206Z",
     "start_time": "2023-12-31T14:06:31.172548Z"
    }
   },
   "outputs": [
    {
     "name": "stdout",
     "output_type": "stream",
     "text": [
      "Using default tag: latest\r\n",
      "latest: Pulling from chromadb/chroma\r\n",
      "Digest: sha256:2b2ecbef838da70b96da28f4d9464597a4312784c8f2aab6e1f7c43c87d4808b\r\n",
      "Status: Image is up to date for chromadb/chroma:latest\r\n",
      "docker.io/chromadb/chroma:latest\r\n"
     ]
    }
   ],
   "source": [
    "!docker pull chromadb/chroma"
   ]
  },
  {
   "cell_type": "code",
   "execution_count": 35,
   "outputs": [
    {
     "name": "stdout",
     "output_type": "stream",
     "text": [
      "docker: Error response from daemon: driver failed programming external connectivity on endpoint charming_brattain (56775680fce7f4c9b2c90f48093ca6ea503d7a3be0142de4c4b52fc17f0fd236): Bind for 0.0.0.0:8000 failed: port is already allocated.\r\n"
     ]
    }
   ],
   "source": [
    "!docker run -p 8000:8000 chromadb/chroma"
   ],
   "metadata": {
    "collapsed": false,
    "ExecuteTime": {
     "end_time": "2023-12-31T14:06:35.583893Z",
     "start_time": "2023-12-31T14:06:34.769520Z"
    }
   },
   "id": "4043951a9103adc0"
  },
  {
   "cell_type": "code",
   "execution_count": 1,
   "outputs": [],
   "source": [
    "%load_ext dotenv\n",
    "%dotenv"
   ],
   "metadata": {
    "collapsed": false,
    "ExecuteTime": {
     "end_time": "2023-12-31T14:28:13.019874Z",
     "start_time": "2023-12-31T14:28:13.008068Z"
    }
   },
   "id": "f11657c3b1ba99ed"
  },
  {
   "cell_type": "code",
   "execution_count": 25,
   "outputs": [],
   "source": [
    "import chromadb\n",
    "from chromadb.config import Settings\n",
    "import pandas as pd\n",
    "import yandexgpt\n",
    "import os\n",
    "from time import sleep\n",
    "from tqdm import tqdm\n",
    "import ast"
   ],
   "metadata": {
    "collapsed": false,
    "ExecuteTime": {
     "end_time": "2023-12-31T15:21:28.009660Z",
     "start_time": "2023-12-31T15:21:27.992525Z"
    }
   },
   "id": "ba9508b9e12f7925"
  },
  {
   "cell_type": "markdown",
   "source": [
    "# Get embeddings"
   ],
   "metadata": {
    "collapsed": false
   },
   "id": "212f771a2734129c"
  },
  {
   "cell_type": "code",
   "execution_count": 10,
   "outputs": [
    {
     "name": "stderr",
     "output_type": "stream",
     "text": [
      "100%|██████████| 3815/3815 [39:11<00:00,  1.62it/s]  \n"
     ]
    }
   ],
   "source": [
    "def get_embeddings(text):\n",
    "    sleep(0.5)\n",
    "    return embeddings.text_embedding(text)[\"embedding\"]\n",
    "\n",
    "embeddings = yandexgpt.Embeddings(os.getenv(\"YANDEX_GPT_KEY\"), \n",
    "                                  os.getenv(\"YANDEX_GPT_EMBEDDINGS_URI\")\n",
    "                                  )\n",
    "df = pd.read_csv(\"data/intents.csv\")\n",
    "text_embeddings = []\n",
    "for txt in tqdm(df[\"text\"]):\n",
    "    text_embeddings.append(get_embeddings(txt))\n",
    "df[\"text_embeddings\"] = text_embeddings\n",
    "df.to_csv(\"data/intents_with_embeddings.csv\", index=False)"
   ],
   "metadata": {
    "collapsed": false,
    "ExecuteTime": {
     "end_time": "2023-12-31T15:10:36.700394Z",
     "start_time": "2023-12-31T14:31:24.707630Z"
    }
   },
   "id": "26b99d89ca239853"
  },
  {
   "cell_type": "code",
   "execution_count": 69,
   "outputs": [
    {
     "name": "stderr",
     "output_type": "stream",
     "text": [
      "100%|██████████| 8414/8414 [1:27:00<00:00,  1.61it/s]\n"
     ]
    }
   ],
   "source": [
    "df = pd.read_csv(\"data/messages.csv\").dropna(subset=['answer'])\n",
    "text_embeddings = []\n",
    "for txt in tqdm(df[\"text\"]):\n",
    "    text_embeddings.append(get_embeddings(txt))\n",
    "df[\"text_embeddings\"] = text_embeddings\n",
    "df.to_csv(\"data/messages_with_embeddings.csv\", index=False)"
   ],
   "metadata": {
    "collapsed": false,
    "ExecuteTime": {
     "end_time": "2023-12-31T19:02:19.280604Z",
     "start_time": "2023-12-31T17:35:16.813439Z"
    }
   },
   "id": "d47e575c66ef3d1d"
  },
  {
   "cell_type": "markdown",
   "source": [
    "# Store in ChromaDB"
   ],
   "metadata": {
    "collapsed": false
   },
   "id": "b8a8c8a6ea2c6dd"
  },
  {
   "cell_type": "code",
   "execution_count": 70,
   "outputs": [],
   "source": [
    "chroma_client = chromadb.HttpClient(host='localhost', \n",
    "                                    port=\"8000\", \n",
    "                                    settings=Settings(anonymized_telemetry=False))\n"
   ],
   "metadata": {
    "collapsed": false,
    "ExecuteTime": {
     "end_time": "2023-12-31T19:02:22.282452Z",
     "start_time": "2023-12-31T19:02:22.010991Z"
    }
   },
   "id": "8edb88659296305a"
  },
  {
   "cell_type": "code",
   "execution_count": null,
   "outputs": [],
   "source": [
    "# drop collection if its required\n",
    "# chroma_client.delete_collection(\"intents\")"
   ],
   "metadata": {
    "collapsed": false,
    "ExecuteTime": {
     "start_time": "2023-12-31T17:32:35.369747Z"
    }
   },
   "id": "699012a4c0bdd003"
  },
  {
   "cell_type": "code",
   "execution_count": 71,
   "outputs": [],
   "source": [
    "collection = chroma_client.get_or_create_collection(\"intents\")"
   ],
   "metadata": {
    "collapsed": false,
    "ExecuteTime": {
     "end_time": "2023-12-31T19:02:27.147512Z",
     "start_time": "2023-12-31T19:02:27.025684Z"
    }
   },
   "id": "72c403572cfbc64a"
  },
  {
   "cell_type": "code",
   "execution_count": 17,
   "outputs": [],
   "source": [
    "df = pd.read_csv('data/intents_with_embeddings.csv')"
   ],
   "metadata": {
    "collapsed": false,
    "ExecuteTime": {
     "end_time": "2023-12-31T15:17:34.130752Z",
     "start_time": "2023-12-31T15:17:33.876420Z"
    }
   },
   "id": "90dd95f59186f363"
  },
  {
   "cell_type": "code",
   "execution_count": 34,
   "outputs": [],
   "source": [
    "texts = df[\"text\"].tolist()\n",
    "text_embeddings = list(map(\n",
    "    lambda str_arr: ast.literal_eval(str_arr), \n",
    "    df[\"text_embeddings\"].tolist()))\n",
    "ids = df[\"id\"].astype(str).tolist()\n",
    "answers = df[\"answer\"].tolist()\n",
    "collection.upsert(\n",
    "    ids=ids,\n",
    "    embeddings=text_embeddings,\n",
    "    metadatas=[{\"source\": \"intents\", \"text\": txt} for txt in texts],\n",
    "    documents=answers\n",
    ")\n"
   ],
   "metadata": {
    "collapsed": false,
    "ExecuteTime": {
     "end_time": "2023-12-31T15:26:45.580083Z",
     "start_time": "2023-12-31T15:26:37.973943Z"
    }
   },
   "id": "92854391aa05405e"
  },
  {
   "cell_type": "code",
   "execution_count": null,
   "outputs": [],
   "source": [],
   "metadata": {
    "collapsed": false
   },
   "id": "d6445d83f2cd8adb"
  },
  {
   "cell_type": "code",
   "execution_count": 72,
   "outputs": [],
   "source": [
    "df = pd.read_csv('data/messages_with_embeddings.csv')"
   ],
   "metadata": {
    "collapsed": false,
    "ExecuteTime": {
     "end_time": "2023-12-31T19:02:30.970440Z",
     "start_time": "2023-12-31T19:02:30.454104Z"
    }
   },
   "id": "d7f8598dd6e58c1f"
  },
  {
   "cell_type": "code",
   "execution_count": 74,
   "outputs": [],
   "source": [
    "texts = df[\"text\"].tolist()\n",
    "text_embeddings = list(map(\n",
    "    lambda str_arr: ast.literal_eval(str_arr), \n",
    "    df[\"text_embeddings\"].tolist()))\n",
    "ids = df[\"messageId\"].astype(str).tolist()\n",
    "answers = df[\"answer\"].tolist()\n",
    "collection.upsert(\n",
    "    ids=ids,\n",
    "    embeddings=text_embeddings,\n",
    "    metadatas=[{\"source\": \"messages\", \"text\": txt} for txt in texts],\n",
    "    documents=answers\n",
    ")\n"
   ],
   "metadata": {
    "collapsed": false,
    "ExecuteTime": {
     "end_time": "2023-12-31T19:03:23.612215Z",
     "start_time": "2023-12-31T19:03:08.612486Z"
    }
   },
   "id": "e48d5f7502803547"
  },
  {
   "cell_type": "markdown",
   "source": [
    "# Test"
   ],
   "metadata": {
    "collapsed": false
   },
   "id": "e18453d48b851bc1"
  },
  {
   "cell_type": "code",
   "execution_count": 76,
   "outputs": [
    {
     "name": "stdout",
     "output_type": "stream",
     "text": [
      "[{'text': 'Меня интересуют много вопросов', 'answer': 'Очень хорошо, будет рады ответить на все ваши вопросы'}, {'text': 'Что мне нужно знать, чтобы', 'answer': 'игнорируемые части вопроса'}, {'text': 'У меня очень много вопросов', 'answer': 'игнор'}, {'text': 'У меня несколько много вопросов', 'answer': 'игнор'}, {'text': 'К вашим специалистам?', 'answer': 'Я могу вам помочь, напишите какая у вас проблема?'}]\n"
     ]
    }
   ],
   "source": [
    "result = collection.query(\n",
    "    query_embeddings=[embeddings.text_embedding(\"Какие фичи у вас есть\")[\"embedding\"]],\n",
    "    n_results=5,\n",
    ")\n",
    "result_documents = []\n",
    "for distance, metadata, document in zip(\n",
    "        result[\"distances\"][0], result[\"metadatas\"][0], result[\"documents\"][0]\n",
    "):\n",
    "    if distance < 1:\n",
    "        result_documents.append({\"text\": metadata[\"text\"], \"answer\": document})\n",
    "print(result_documents)"
   ],
   "metadata": {
    "collapsed": false,
    "ExecuteTime": {
     "end_time": "2023-12-31T19:04:04.203855Z",
     "start_time": "2023-12-31T19:04:04.039584Z"
    }
   },
   "id": "6d9223f9f0104f61"
  },
  {
   "cell_type": "code",
   "execution_count": null,
   "outputs": [],
   "source": [],
   "metadata": {
    "collapsed": false
   },
   "id": "740c82edf7a02f84"
  }
 ],
 "metadata": {
  "kernelspec": {
   "display_name": "Python 3",
   "language": "python",
   "name": "python3"
  },
  "language_info": {
   "codemirror_mode": {
    "name": "ipython",
    "version": 2
   },
   "file_extension": ".py",
   "mimetype": "text/x-python",
   "name": "python",
   "nbconvert_exporter": "python",
   "pygments_lexer": "ipython2",
   "version": "2.7.6"
  }
 },
 "nbformat": 4,
 "nbformat_minor": 5
}
