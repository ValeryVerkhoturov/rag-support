{
 "cells": [
  {
   "cell_type": "code",
   "execution_count": 43,
   "outputs": [
    {
     "name": "stdout",
     "output_type": "stream",
     "text": [
      "The dotenv extension is already loaded. To reload it, use:\n",
      "  %reload_ext dotenv\n"
     ]
    }
   ],
   "source": [
    "%load_ext dotenv\n",
    "%dotenv"
   ],
   "metadata": {
    "collapsed": false,
    "ExecuteTime": {
     "end_time": "2024-01-06T17:09:21.960659Z",
     "start_time": "2024-01-06T17:09:21.913540Z"
    }
   },
   "id": "840afeb838a77cef"
  },
  {
   "cell_type": "code",
   "execution_count": 64,
   "outputs": [],
   "source": [
    "import pandas as pd\n",
    "import os\n",
    "import re\n",
    "import ast\n",
    "import random\n",
    "from time import sleep\n",
    "from tqdm import tqdm\n",
    "import chromadb\n",
    "from chromadb.config import Settings\n",
    "\n",
    "import diff\n",
    "import yandexgpt"
   ],
   "metadata": {
    "collapsed": false,
    "ExecuteTime": {
     "end_time": "2024-01-06T17:20:31.810284Z",
     "start_time": "2024-01-06T17:20:31.782508Z"
    }
   },
   "id": "8fa34e0537f81ec8"
  },
  {
   "cell_type": "markdown",
   "source": [
    "# Site data extraction"
   ],
   "metadata": {
    "collapsed": false
   },
   "id": "8fbf1c1d4552cf87"
  },
  {
   "cell_type": "code",
   "execution_count": 45,
   "outputs": [],
   "source": [
    "def clean_images(df):\n",
    "    df[\"text\"] = (df[\"text\"]\n",
    "                  .str.replace(\n",
    "        '!?\\[\\ ?(\\\\n)?\\ ?\\]\\([.:@\\-\\/\\w#?=]*((\\\\n)? ?\\\"[ .:@\\-\\/\\w#?=]*\\\")?\\)', '', regex=True\n",
    "    ))\n",
    "    return df\n",
    "\n",
    "def replace_newlines_in_links(match):\n",
    "    url = match.group(0)\n",
    "    return url.replace('\\n', '')\n",
    "\n",
    "def sub_links_replace_new_lines(text):\n",
    "    return re.sub('\\(https?://[^\\)]+\\)', replace_newlines_in_links, text)\n",
    "\n",
    "# remove new line character from urls in markdown links. \n",
    "# I think it's bug of html2text.HTML2Text.handle\n",
    "def fix_links(df):\n",
    "    df[\"text\"] = df[\"text\"].apply(sub_links_replace_new_lines)\n",
    "    return df\n",
    "\n",
    "def add_domain(text, domain):\n",
    "    pattern = '\\((/[^)]*)\\)'\n",
    "    new_text = re.sub(pattern, f'(https://{domain}\\\\1)', text)\n",
    "    return new_text\n",
    "\n",
    "def replace_relative_links_with_absolute(df):\n",
    "    df[\"text\"] = df[\"text\"].apply(add_domain, args=(os.getenv(\"SITE_DOMAIN\"), ))\n",
    "    return df\n",
    "\n",
    "df = pd.read_json(\"data/crawler_output.json\")\n",
    "df = df\\\n",
    "    .pipe(fix_links)\\\n",
    "    .pipe(clean_images)\\\n",
    "    .pipe(replace_relative_links_with_absolute)\\\n",
    "    .drop_duplicates(subset=[\"text\"])"
   ],
   "metadata": {
    "collapsed": false,
    "ExecuteTime": {
     "end_time": "2024-01-06T17:09:24.015589Z",
     "start_time": "2024-01-06T17:09:23.652006Z"
    }
   },
   "id": "3ff9f4012269d8d9"
  },
  {
   "cell_type": "code",
   "execution_count": 46,
   "outputs": [],
   "source": [
    "def get_kept_lines(page_rows1: [str], page_rows2: [str]):\n",
    "    filter_page_lines = lambda x: len(x.strip()) > 0\n",
    "    result_lines = diff.myers_diff(\n",
    "        list(filter(filter_page_lines, page_rows1)), \n",
    "        list(filter(filter_page_lines, page_rows2))\n",
    "    )\n",
    "    kept_lines = []\n",
    "    for line in result_lines:\n",
    "        if isinstance(line, diff.Keep):\n",
    "            kept_lines.append(line.line)\n",
    "            \n",
    "    return kept_lines\n",
    "\n",
    "random.seed(100)\n",
    "compare_pages_count = 3\n",
    "compare_pages = [df[\"text\"][random.randrange(len(df))] for _ in range(compare_pages_count)]\n",
    "header_and_footer_lines = compare_pages[0].split(\"\\n\")\n",
    "for page in compare_pages:\n",
    "    header_and_footer_lines = get_kept_lines(header_and_footer_lines, page.split(\"\\n\"))"
   ],
   "metadata": {
    "collapsed": false,
    "ExecuteTime": {
     "end_time": "2024-01-06T17:09:26.414483Z",
     "start_time": "2024-01-06T17:09:25.052044Z"
    }
   },
   "id": "409ae1c896b52d79"
  },
  {
   "cell_type": "code",
   "execution_count": 47,
   "outputs": [],
   "source": [
    "def remove_header_and_footer_lines_apply(text, forbidden_rows: [str]):\n",
    "    return \"\\n\".join(\n",
    "        list(\n",
    "            filter(\n",
    "                lambda x: x not in forbidden_rows, \n",
    "                text.split(\"\\n\")\n",
    "            )\n",
    "        )\n",
    "    )\n",
    "\n",
    "def remove_header_and_footer_lines(df):\n",
    "    df[\"text\"] = df[\"text\"].apply(\n",
    "        remove_header_and_footer_lines_apply, args=(header_and_footer_lines,)\n",
    "    )\n",
    "    return df\n",
    "    \n",
    "def replace_newlines_apply(text):\n",
    "    return re.sub('[\\n]{2,}', '\\n\\n', text)\n",
    "    \n",
    "def replace_newlines(df):\n",
    "    df[\"text\"] = df[\"text\"].str.strip()\n",
    "    df[\"text\"] = df[\"text\"].apply(replace_newlines_apply)\n",
    "    return df\n",
    "\n",
    "df = df\\\n",
    "    .pipe(remove_header_and_footer_lines)\\\n",
    "    .pipe(replace_newlines)"
   ],
   "metadata": {
    "collapsed": false,
    "ExecuteTime": {
     "end_time": "2024-01-06T17:09:26.784265Z",
     "start_time": "2024-01-06T17:09:26.420782Z"
    }
   },
   "id": "61d0623015bd2acb"
  },
  {
   "cell_type": "markdown",
   "source": [
    "# Text to chunks"
   ],
   "metadata": {
    "collapsed": false
   },
   "id": "a8d1400ef79d5d2d"
  },
  {
   "cell_type": "code",
   "execution_count": 48,
   "outputs": [
    {
     "data": {
      "text/plain": "                                                  chunk\n0     # Лидер автоматизации  бизнеса на маркетплейса...\n1     ](https://selsup.ru/product_base/)\\n\\nПоставки...\n2     выложить 30 000 карточек на WB и Ozon, отзыв к...\n3     ь в Реестре Программного Обеспечения РФ: №1176...\n4     [SelSup](https://selsup.ru \"Перейти к SelSup.\"...\n...                                                 ...\n3584  о понимает, кто, где,\\nкогда произвёл товар, к...\n3585  mp/)\\n  * …\\n  * [15](https://selsup.ru/news-m...\n3586  # Обучение и новости\\n\\nУзнайте первым лайфхак...\n3587  up.ru/blog/komissii-ozon-2023/)\\n\\n18.04.2023\\...\n3588  berries/)\\n\\n[![Как сделать этикетку самому: т...\n\n[3567 rows x 1 columns]",
      "text/html": "<div>\n<style scoped>\n    .dataframe tbody tr th:only-of-type {\n        vertical-align: middle;\n    }\n\n    .dataframe tbody tr th {\n        vertical-align: top;\n    }\n\n    .dataframe thead th {\n        text-align: right;\n    }\n</style>\n<table border=\"1\" class=\"dataframe\">\n  <thead>\n    <tr style=\"text-align: right;\">\n      <th></th>\n      <th>chunk</th>\n    </tr>\n  </thead>\n  <tbody>\n    <tr>\n      <th>0</th>\n      <td># Лидер автоматизации  бизнеса на маркетплейса...</td>\n    </tr>\n    <tr>\n      <th>1</th>\n      <td>](https://selsup.ru/product_base/)\\n\\nПоставки...</td>\n    </tr>\n    <tr>\n      <th>2</th>\n      <td>выложить 30 000 карточек на WB и Ozon, отзыв к...</td>\n    </tr>\n    <tr>\n      <th>3</th>\n      <td>ь в Реестре Программного Обеспечения РФ: №1176...</td>\n    </tr>\n    <tr>\n      <th>4</th>\n      <td>[SelSup](https://selsup.ru \"Перейти к SelSup.\"...</td>\n    </tr>\n    <tr>\n      <th>...</th>\n      <td>...</td>\n    </tr>\n    <tr>\n      <th>3584</th>\n      <td>о понимает, кто, где,\\nкогда произвёл товар, к...</td>\n    </tr>\n    <tr>\n      <th>3585</th>\n      <td>mp/)\\n  * …\\n  * [15](https://selsup.ru/news-m...</td>\n    </tr>\n    <tr>\n      <th>3586</th>\n      <td># Обучение и новости\\n\\nУзнайте первым лайфхак...</td>\n    </tr>\n    <tr>\n      <th>3587</th>\n      <td>up.ru/blog/komissii-ozon-2023/)\\n\\n18.04.2023\\...</td>\n    </tr>\n    <tr>\n      <th>3588</th>\n      <td>berries/)\\n\\n[![Как сделать этикетку самому: т...</td>\n    </tr>\n  </tbody>\n</table>\n<p>3567 rows × 1 columns</p>\n</div>"
     },
     "execution_count": 48,
     "metadata": {},
     "output_type": "execute_result"
    }
   ],
   "source": [
    "def split_string(s, chunk_size=2500, overlap=200):\n",
    "    chunks = []\n",
    "    start = 0\n",
    "    while start < len(s):\n",
    "        end = start + chunk_size\n",
    "        chunk = s[start:end]\n",
    "        chunks.append(chunk)\n",
    "        start = end - overlap\n",
    "    return chunks\n",
    "\n",
    "def get_chunks(texts: [str]):\n",
    "    chunks = []\n",
    "    for text in texts:\n",
    "        chunks.extend(split_string(text))\n",
    "    return chunks\n",
    "\n",
    "\n",
    "chunks_df = pd.DataFrame({\"chunk\": get_chunks(df[\"text\"].to_list())}).drop_duplicates()\n",
    "chunks_df"
   ],
   "metadata": {
    "collapsed": false,
    "ExecuteTime": {
     "end_time": "2024-01-06T17:09:32.883157Z",
     "start_time": "2024-01-06T17:09:32.873613Z"
    }
   },
   "id": "94c5f150e2f5b435"
  },
  {
   "cell_type": "code",
   "execution_count": 49,
   "outputs": [
    {
     "data": {
      "text/plain": "                                                    chunk\ncount                                                3567\nunique                                               3567\ntop     # Лидер автоматизации  бизнеса на маркетплейса...\nfreq                                                    1",
      "text/html": "<div>\n<style scoped>\n    .dataframe tbody tr th:only-of-type {\n        vertical-align: middle;\n    }\n\n    .dataframe tbody tr th {\n        vertical-align: top;\n    }\n\n    .dataframe thead th {\n        text-align: right;\n    }\n</style>\n<table border=\"1\" class=\"dataframe\">\n  <thead>\n    <tr style=\"text-align: right;\">\n      <th></th>\n      <th>chunk</th>\n    </tr>\n  </thead>\n  <tbody>\n    <tr>\n      <th>count</th>\n      <td>3567</td>\n    </tr>\n    <tr>\n      <th>unique</th>\n      <td>3567</td>\n    </tr>\n    <tr>\n      <th>top</th>\n      <td># Лидер автоматизации  бизнеса на маркетплейса...</td>\n    </tr>\n    <tr>\n      <th>freq</th>\n      <td>1</td>\n    </tr>\n  </tbody>\n</table>\n</div>"
     },
     "execution_count": 49,
     "metadata": {},
     "output_type": "execute_result"
    }
   ],
   "source": [
    "chunks_df.describe()"
   ],
   "metadata": {
    "collapsed": false,
    "ExecuteTime": {
     "end_time": "2024-01-06T17:09:36.127885Z",
     "start_time": "2024-01-06T17:09:36.121376Z"
    }
   },
   "id": "b3205191786b40ae"
  },
  {
   "cell_type": "markdown",
   "source": [
    "# Get embeddings"
   ],
   "metadata": {
    "collapsed": false
   },
   "id": "5e9504c33f5d8858"
  },
  {
   "cell_type": "code",
   "execution_count": 42,
   "outputs": [
    {
     "name": "stderr",
     "output_type": "stream",
     "text": [
      "  0%|          | 5/3567 [00:03<42:05,  1.41it/s]\n"
     ]
    },
    {
     "ename": "KeyboardInterrupt",
     "evalue": "",
     "output_type": "error",
     "traceback": [
      "\u001B[0;31m---------------------------------------------------------------------------\u001B[0m",
      "\u001B[0;31mKeyboardInterrupt\u001B[0m                         Traceback (most recent call last)",
      "Cell \u001B[0;32mIn[42], line 10\u001B[0m\n\u001B[1;32m      8\u001B[0m chunk_embeddings \u001B[38;5;241m=\u001B[39m []\n\u001B[1;32m      9\u001B[0m \u001B[38;5;28;01mfor\u001B[39;00m txt \u001B[38;5;129;01min\u001B[39;00m tqdm(chunks_df[\u001B[38;5;124m\"\u001B[39m\u001B[38;5;124mchunk\u001B[39m\u001B[38;5;124m\"\u001B[39m]):\n\u001B[0;32m---> 10\u001B[0m     chunk_embeddings\u001B[38;5;241m.\u001B[39mappend(\u001B[43mget_embeddings\u001B[49m\u001B[43m(\u001B[49m\u001B[43mtxt\u001B[49m\u001B[43m)\u001B[49m)\n\u001B[1;32m     11\u001B[0m chunks_df[\u001B[38;5;124m\"\u001B[39m\u001B[38;5;124mchunk_embeddings\u001B[39m\u001B[38;5;124m\"\u001B[39m] \u001B[38;5;241m=\u001B[39m chunk_embeddings\n",
      "Cell \u001B[0;32mIn[42], line 3\u001B[0m, in \u001B[0;36mget_embeddings\u001B[0;34m(text)\u001B[0m\n\u001B[1;32m      1\u001B[0m \u001B[38;5;28;01mdef\u001B[39;00m \u001B[38;5;21mget_embeddings\u001B[39m(text):\n\u001B[1;32m      2\u001B[0m     sleep(\u001B[38;5;241m0.5\u001B[39m)\n\u001B[0;32m----> 3\u001B[0m     \u001B[38;5;28;01mreturn\u001B[39;00m \u001B[43membeddings\u001B[49m\u001B[38;5;241;43m.\u001B[39;49m\u001B[43mtext_embedding\u001B[49m\u001B[43m(\u001B[49m\u001B[43mtext\u001B[49m\u001B[43m)\u001B[49m[\u001B[38;5;124m\"\u001B[39m\u001B[38;5;124membedding\u001B[39m\u001B[38;5;124m\"\u001B[39m]\n",
      "File \u001B[0;32m~/WebstormProjects/rag-support/yandexgpt/__init__.py:23\u001B[0m, in \u001B[0;36mretry_yandex_gpt_factory.<locals>.retry_yandex_gpt.<locals>.wrapper_retry_yandex_gpt\u001B[0;34m(*args, **kwargs)\u001B[0m\n\u001B[1;32m     21\u001B[0m \u001B[38;5;28;01mdef\u001B[39;00m \u001B[38;5;21mwrapper_retry_yandex_gpt\u001B[39m(\u001B[38;5;241m*\u001B[39margs, \u001B[38;5;241m*\u001B[39m\u001B[38;5;241m*\u001B[39mkwargs):\n\u001B[1;32m     22\u001B[0m     \u001B[38;5;28;01mfor\u001B[39;00m retry \u001B[38;5;129;01min\u001B[39;00m \u001B[38;5;28mrange\u001B[39m(retries):\n\u001B[0;32m---> 23\u001B[0m         res \u001B[38;5;241m=\u001B[39m \u001B[43mfunc\u001B[49m\u001B[43m(\u001B[49m\u001B[38;5;241;43m*\u001B[39;49m\u001B[43margs\u001B[49m\u001B[43m,\u001B[49m\u001B[43m \u001B[49m\u001B[38;5;241;43m*\u001B[39;49m\u001B[38;5;241;43m*\u001B[39;49m\u001B[43mkwargs\u001B[49m\u001B[43m)\u001B[49m\n\u001B[1;32m     24\u001B[0m         \u001B[38;5;28;01mif\u001B[39;00m (res\u001B[38;5;241m.\u001B[39mstatus_code) \u001B[38;5;241m==\u001B[39m \u001B[38;5;241m200\u001B[39m:\n\u001B[1;32m     25\u001B[0m             \u001B[38;5;28;01mreturn\u001B[39;00m res\u001B[38;5;241m.\u001B[39mjson()\n",
      "File \u001B[0;32m~/WebstormProjects/rag-support/yandexgpt/__init__.py:44\u001B[0m, in \u001B[0;36mEmbeddings.text_embedding\u001B[0;34m(self, text)\u001B[0m\n\u001B[1;32m     38\u001B[0m url \u001B[38;5;241m=\u001B[39m \u001B[38;5;124m\"\u001B[39m\u001B[38;5;124mhttps://llm.api.cloud.yandex.net/foundationModels/v1/textEmbedding\u001B[39m\u001B[38;5;124m\"\u001B[39m\n\u001B[1;32m     39\u001B[0m data \u001B[38;5;241m=\u001B[39m {\n\u001B[1;32m     40\u001B[0m     \u001B[38;5;124m\"\u001B[39m\u001B[38;5;124mmodelUri\u001B[39m\u001B[38;5;124m\"\u001B[39m: \u001B[38;5;28mself\u001B[39m\u001B[38;5;241m.\u001B[39mmodel_uri,\n\u001B[1;32m     41\u001B[0m     \u001B[38;5;124m\"\u001B[39m\u001B[38;5;124mtext\u001B[39m\u001B[38;5;124m\"\u001B[39m: text\n\u001B[1;32m     42\u001B[0m }\n\u001B[0;32m---> 44\u001B[0m \u001B[38;5;28;01mreturn\u001B[39;00m \u001B[43mrequests\u001B[49m\u001B[38;5;241;43m.\u001B[39;49m\u001B[43mpost\u001B[49m\u001B[43m(\u001B[49m\u001B[43murl\u001B[49m\u001B[43m,\u001B[49m\u001B[43m \u001B[49m\u001B[43mjson\u001B[49m\u001B[38;5;241;43m=\u001B[39;49m\u001B[43mdata\u001B[49m\u001B[43m,\u001B[49m\u001B[43m \u001B[49m\u001B[43mheaders\u001B[49m\u001B[38;5;241;43m=\u001B[39;49m\u001B[38;5;28;43mself\u001B[39;49m\u001B[38;5;241;43m.\u001B[39;49m\u001B[43mget_headers\u001B[49m\u001B[43m(\u001B[49m\u001B[43m)\u001B[49m\u001B[43m)\u001B[49m\n",
      "File \u001B[0;32m~/Library/Caches/pypoetry/virtualenvs/rag-support-I_qEI_ln-py3.10/lib/python3.10/site-packages/requests/api.py:115\u001B[0m, in \u001B[0;36mpost\u001B[0;34m(url, data, json, **kwargs)\u001B[0m\n\u001B[1;32m    103\u001B[0m \u001B[38;5;28;01mdef\u001B[39;00m \u001B[38;5;21mpost\u001B[39m(url, data\u001B[38;5;241m=\u001B[39m\u001B[38;5;28;01mNone\u001B[39;00m, json\u001B[38;5;241m=\u001B[39m\u001B[38;5;28;01mNone\u001B[39;00m, \u001B[38;5;241m*\u001B[39m\u001B[38;5;241m*\u001B[39mkwargs):\n\u001B[1;32m    104\u001B[0m \u001B[38;5;250m    \u001B[39m\u001B[38;5;124mr\u001B[39m\u001B[38;5;124;03m\"\"\"Sends a POST request.\u001B[39;00m\n\u001B[1;32m    105\u001B[0m \n\u001B[1;32m    106\u001B[0m \u001B[38;5;124;03m    :param url: URL for the new :class:`Request` object.\u001B[39;00m\n\u001B[0;32m   (...)\u001B[0m\n\u001B[1;32m    112\u001B[0m \u001B[38;5;124;03m    :rtype: requests.Response\u001B[39;00m\n\u001B[1;32m    113\u001B[0m \u001B[38;5;124;03m    \"\"\"\u001B[39;00m\n\u001B[0;32m--> 115\u001B[0m     \u001B[38;5;28;01mreturn\u001B[39;00m \u001B[43mrequest\u001B[49m\u001B[43m(\u001B[49m\u001B[38;5;124;43m\"\u001B[39;49m\u001B[38;5;124;43mpost\u001B[39;49m\u001B[38;5;124;43m\"\u001B[39;49m\u001B[43m,\u001B[49m\u001B[43m \u001B[49m\u001B[43murl\u001B[49m\u001B[43m,\u001B[49m\u001B[43m \u001B[49m\u001B[43mdata\u001B[49m\u001B[38;5;241;43m=\u001B[39;49m\u001B[43mdata\u001B[49m\u001B[43m,\u001B[49m\u001B[43m \u001B[49m\u001B[43mjson\u001B[49m\u001B[38;5;241;43m=\u001B[39;49m\u001B[43mjson\u001B[49m\u001B[43m,\u001B[49m\u001B[43m \u001B[49m\u001B[38;5;241;43m*\u001B[39;49m\u001B[38;5;241;43m*\u001B[39;49m\u001B[43mkwargs\u001B[49m\u001B[43m)\u001B[49m\n",
      "File \u001B[0;32m~/Library/Caches/pypoetry/virtualenvs/rag-support-I_qEI_ln-py3.10/lib/python3.10/site-packages/requests/api.py:59\u001B[0m, in \u001B[0;36mrequest\u001B[0;34m(method, url, **kwargs)\u001B[0m\n\u001B[1;32m     55\u001B[0m \u001B[38;5;66;03m# By using the 'with' statement we are sure the session is closed, thus we\u001B[39;00m\n\u001B[1;32m     56\u001B[0m \u001B[38;5;66;03m# avoid leaving sockets open which can trigger a ResourceWarning in some\u001B[39;00m\n\u001B[1;32m     57\u001B[0m \u001B[38;5;66;03m# cases, and look like a memory leak in others.\u001B[39;00m\n\u001B[1;32m     58\u001B[0m \u001B[38;5;28;01mwith\u001B[39;00m sessions\u001B[38;5;241m.\u001B[39mSession() \u001B[38;5;28;01mas\u001B[39;00m session:\n\u001B[0;32m---> 59\u001B[0m     \u001B[38;5;28;01mreturn\u001B[39;00m \u001B[43msession\u001B[49m\u001B[38;5;241;43m.\u001B[39;49m\u001B[43mrequest\u001B[49m\u001B[43m(\u001B[49m\u001B[43mmethod\u001B[49m\u001B[38;5;241;43m=\u001B[39;49m\u001B[43mmethod\u001B[49m\u001B[43m,\u001B[49m\u001B[43m \u001B[49m\u001B[43murl\u001B[49m\u001B[38;5;241;43m=\u001B[39;49m\u001B[43murl\u001B[49m\u001B[43m,\u001B[49m\u001B[43m \u001B[49m\u001B[38;5;241;43m*\u001B[39;49m\u001B[38;5;241;43m*\u001B[39;49m\u001B[43mkwargs\u001B[49m\u001B[43m)\u001B[49m\n",
      "File \u001B[0;32m~/Library/Caches/pypoetry/virtualenvs/rag-support-I_qEI_ln-py3.10/lib/python3.10/site-packages/requests/sessions.py:589\u001B[0m, in \u001B[0;36mSession.request\u001B[0;34m(self, method, url, params, data, headers, cookies, files, auth, timeout, allow_redirects, proxies, hooks, stream, verify, cert, json)\u001B[0m\n\u001B[1;32m    584\u001B[0m send_kwargs \u001B[38;5;241m=\u001B[39m {\n\u001B[1;32m    585\u001B[0m     \u001B[38;5;124m\"\u001B[39m\u001B[38;5;124mtimeout\u001B[39m\u001B[38;5;124m\"\u001B[39m: timeout,\n\u001B[1;32m    586\u001B[0m     \u001B[38;5;124m\"\u001B[39m\u001B[38;5;124mallow_redirects\u001B[39m\u001B[38;5;124m\"\u001B[39m: allow_redirects,\n\u001B[1;32m    587\u001B[0m }\n\u001B[1;32m    588\u001B[0m send_kwargs\u001B[38;5;241m.\u001B[39mupdate(settings)\n\u001B[0;32m--> 589\u001B[0m resp \u001B[38;5;241m=\u001B[39m \u001B[38;5;28;43mself\u001B[39;49m\u001B[38;5;241;43m.\u001B[39;49m\u001B[43msend\u001B[49m\u001B[43m(\u001B[49m\u001B[43mprep\u001B[49m\u001B[43m,\u001B[49m\u001B[43m \u001B[49m\u001B[38;5;241;43m*\u001B[39;49m\u001B[38;5;241;43m*\u001B[39;49m\u001B[43msend_kwargs\u001B[49m\u001B[43m)\u001B[49m\n\u001B[1;32m    591\u001B[0m \u001B[38;5;28;01mreturn\u001B[39;00m resp\n",
      "File \u001B[0;32m~/Library/Caches/pypoetry/virtualenvs/rag-support-I_qEI_ln-py3.10/lib/python3.10/site-packages/requests/sessions.py:703\u001B[0m, in \u001B[0;36mSession.send\u001B[0;34m(self, request, **kwargs)\u001B[0m\n\u001B[1;32m    700\u001B[0m start \u001B[38;5;241m=\u001B[39m preferred_clock()\n\u001B[1;32m    702\u001B[0m \u001B[38;5;66;03m# Send the request\u001B[39;00m\n\u001B[0;32m--> 703\u001B[0m r \u001B[38;5;241m=\u001B[39m \u001B[43madapter\u001B[49m\u001B[38;5;241;43m.\u001B[39;49m\u001B[43msend\u001B[49m\u001B[43m(\u001B[49m\u001B[43mrequest\u001B[49m\u001B[43m,\u001B[49m\u001B[43m \u001B[49m\u001B[38;5;241;43m*\u001B[39;49m\u001B[38;5;241;43m*\u001B[39;49m\u001B[43mkwargs\u001B[49m\u001B[43m)\u001B[49m\n\u001B[1;32m    705\u001B[0m \u001B[38;5;66;03m# Total elapsed time of the request (approximately)\u001B[39;00m\n\u001B[1;32m    706\u001B[0m elapsed \u001B[38;5;241m=\u001B[39m preferred_clock() \u001B[38;5;241m-\u001B[39m start\n",
      "File \u001B[0;32m~/Library/Caches/pypoetry/virtualenvs/rag-support-I_qEI_ln-py3.10/lib/python3.10/site-packages/requests/adapters.py:486\u001B[0m, in \u001B[0;36mHTTPAdapter.send\u001B[0;34m(self, request, stream, timeout, verify, cert, proxies)\u001B[0m\n\u001B[1;32m    483\u001B[0m     timeout \u001B[38;5;241m=\u001B[39m TimeoutSauce(connect\u001B[38;5;241m=\u001B[39mtimeout, read\u001B[38;5;241m=\u001B[39mtimeout)\n\u001B[1;32m    485\u001B[0m \u001B[38;5;28;01mtry\u001B[39;00m:\n\u001B[0;32m--> 486\u001B[0m     resp \u001B[38;5;241m=\u001B[39m \u001B[43mconn\u001B[49m\u001B[38;5;241;43m.\u001B[39;49m\u001B[43murlopen\u001B[49m\u001B[43m(\u001B[49m\n\u001B[1;32m    487\u001B[0m \u001B[43m        \u001B[49m\u001B[43mmethod\u001B[49m\u001B[38;5;241;43m=\u001B[39;49m\u001B[43mrequest\u001B[49m\u001B[38;5;241;43m.\u001B[39;49m\u001B[43mmethod\u001B[49m\u001B[43m,\u001B[49m\n\u001B[1;32m    488\u001B[0m \u001B[43m        \u001B[49m\u001B[43murl\u001B[49m\u001B[38;5;241;43m=\u001B[39;49m\u001B[43murl\u001B[49m\u001B[43m,\u001B[49m\n\u001B[1;32m    489\u001B[0m \u001B[43m        \u001B[49m\u001B[43mbody\u001B[49m\u001B[38;5;241;43m=\u001B[39;49m\u001B[43mrequest\u001B[49m\u001B[38;5;241;43m.\u001B[39;49m\u001B[43mbody\u001B[49m\u001B[43m,\u001B[49m\n\u001B[1;32m    490\u001B[0m \u001B[43m        \u001B[49m\u001B[43mheaders\u001B[49m\u001B[38;5;241;43m=\u001B[39;49m\u001B[43mrequest\u001B[49m\u001B[38;5;241;43m.\u001B[39;49m\u001B[43mheaders\u001B[49m\u001B[43m,\u001B[49m\n\u001B[1;32m    491\u001B[0m \u001B[43m        \u001B[49m\u001B[43mredirect\u001B[49m\u001B[38;5;241;43m=\u001B[39;49m\u001B[38;5;28;43;01mFalse\u001B[39;49;00m\u001B[43m,\u001B[49m\n\u001B[1;32m    492\u001B[0m \u001B[43m        \u001B[49m\u001B[43massert_same_host\u001B[49m\u001B[38;5;241;43m=\u001B[39;49m\u001B[38;5;28;43;01mFalse\u001B[39;49;00m\u001B[43m,\u001B[49m\n\u001B[1;32m    493\u001B[0m \u001B[43m        \u001B[49m\u001B[43mpreload_content\u001B[49m\u001B[38;5;241;43m=\u001B[39;49m\u001B[38;5;28;43;01mFalse\u001B[39;49;00m\u001B[43m,\u001B[49m\n\u001B[1;32m    494\u001B[0m \u001B[43m        \u001B[49m\u001B[43mdecode_content\u001B[49m\u001B[38;5;241;43m=\u001B[39;49m\u001B[38;5;28;43;01mFalse\u001B[39;49;00m\u001B[43m,\u001B[49m\n\u001B[1;32m    495\u001B[0m \u001B[43m        \u001B[49m\u001B[43mretries\u001B[49m\u001B[38;5;241;43m=\u001B[39;49m\u001B[38;5;28;43mself\u001B[39;49m\u001B[38;5;241;43m.\u001B[39;49m\u001B[43mmax_retries\u001B[49m\u001B[43m,\u001B[49m\n\u001B[1;32m    496\u001B[0m \u001B[43m        \u001B[49m\u001B[43mtimeout\u001B[49m\u001B[38;5;241;43m=\u001B[39;49m\u001B[43mtimeout\u001B[49m\u001B[43m,\u001B[49m\n\u001B[1;32m    497\u001B[0m \u001B[43m        \u001B[49m\u001B[43mchunked\u001B[49m\u001B[38;5;241;43m=\u001B[39;49m\u001B[43mchunked\u001B[49m\u001B[43m,\u001B[49m\n\u001B[1;32m    498\u001B[0m \u001B[43m    \u001B[49m\u001B[43m)\u001B[49m\n\u001B[1;32m    500\u001B[0m \u001B[38;5;28;01mexcept\u001B[39;00m (ProtocolError, \u001B[38;5;167;01mOSError\u001B[39;00m) \u001B[38;5;28;01mas\u001B[39;00m err:\n\u001B[1;32m    501\u001B[0m     \u001B[38;5;28;01mraise\u001B[39;00m \u001B[38;5;167;01mConnectionError\u001B[39;00m(err, request\u001B[38;5;241m=\u001B[39mrequest)\n",
      "File \u001B[0;32m~/Library/Caches/pypoetry/virtualenvs/rag-support-I_qEI_ln-py3.10/lib/python3.10/site-packages/urllib3/connectionpool.py:715\u001B[0m, in \u001B[0;36mHTTPConnectionPool.urlopen\u001B[0;34m(self, method, url, body, headers, retries, redirect, assert_same_host, timeout, pool_timeout, release_conn, chunked, body_pos, **response_kw)\u001B[0m\n\u001B[1;32m    712\u001B[0m     \u001B[38;5;28mself\u001B[39m\u001B[38;5;241m.\u001B[39m_prepare_proxy(conn)\n\u001B[1;32m    714\u001B[0m \u001B[38;5;66;03m# Make the request on the httplib connection object.\u001B[39;00m\n\u001B[0;32m--> 715\u001B[0m httplib_response \u001B[38;5;241m=\u001B[39m \u001B[38;5;28;43mself\u001B[39;49m\u001B[38;5;241;43m.\u001B[39;49m\u001B[43m_make_request\u001B[49m\u001B[43m(\u001B[49m\n\u001B[1;32m    716\u001B[0m \u001B[43m    \u001B[49m\u001B[43mconn\u001B[49m\u001B[43m,\u001B[49m\n\u001B[1;32m    717\u001B[0m \u001B[43m    \u001B[49m\u001B[43mmethod\u001B[49m\u001B[43m,\u001B[49m\n\u001B[1;32m    718\u001B[0m \u001B[43m    \u001B[49m\u001B[43murl\u001B[49m\u001B[43m,\u001B[49m\n\u001B[1;32m    719\u001B[0m \u001B[43m    \u001B[49m\u001B[43mtimeout\u001B[49m\u001B[38;5;241;43m=\u001B[39;49m\u001B[43mtimeout_obj\u001B[49m\u001B[43m,\u001B[49m\n\u001B[1;32m    720\u001B[0m \u001B[43m    \u001B[49m\u001B[43mbody\u001B[49m\u001B[38;5;241;43m=\u001B[39;49m\u001B[43mbody\u001B[49m\u001B[43m,\u001B[49m\n\u001B[1;32m    721\u001B[0m \u001B[43m    \u001B[49m\u001B[43mheaders\u001B[49m\u001B[38;5;241;43m=\u001B[39;49m\u001B[43mheaders\u001B[49m\u001B[43m,\u001B[49m\n\u001B[1;32m    722\u001B[0m \u001B[43m    \u001B[49m\u001B[43mchunked\u001B[49m\u001B[38;5;241;43m=\u001B[39;49m\u001B[43mchunked\u001B[49m\u001B[43m,\u001B[49m\n\u001B[1;32m    723\u001B[0m \u001B[43m\u001B[49m\u001B[43m)\u001B[49m\n\u001B[1;32m    725\u001B[0m \u001B[38;5;66;03m# If we're going to release the connection in ``finally:``, then\u001B[39;00m\n\u001B[1;32m    726\u001B[0m \u001B[38;5;66;03m# the response doesn't need to know about the connection. Otherwise\u001B[39;00m\n\u001B[1;32m    727\u001B[0m \u001B[38;5;66;03m# it will also try to release it and we'll have a double-release\u001B[39;00m\n\u001B[1;32m    728\u001B[0m \u001B[38;5;66;03m# mess.\u001B[39;00m\n\u001B[1;32m    729\u001B[0m response_conn \u001B[38;5;241m=\u001B[39m conn \u001B[38;5;28;01mif\u001B[39;00m \u001B[38;5;129;01mnot\u001B[39;00m release_conn \u001B[38;5;28;01melse\u001B[39;00m \u001B[38;5;28;01mNone\u001B[39;00m\n",
      "File \u001B[0;32m~/Library/Caches/pypoetry/virtualenvs/rag-support-I_qEI_ln-py3.10/lib/python3.10/site-packages/urllib3/connectionpool.py:404\u001B[0m, in \u001B[0;36mHTTPConnectionPool._make_request\u001B[0;34m(self, conn, method, url, timeout, chunked, **httplib_request_kw)\u001B[0m\n\u001B[1;32m    402\u001B[0m \u001B[38;5;66;03m# Trigger any extra validation we need to do.\u001B[39;00m\n\u001B[1;32m    403\u001B[0m \u001B[38;5;28;01mtry\u001B[39;00m:\n\u001B[0;32m--> 404\u001B[0m     \u001B[38;5;28;43mself\u001B[39;49m\u001B[38;5;241;43m.\u001B[39;49m\u001B[43m_validate_conn\u001B[49m\u001B[43m(\u001B[49m\u001B[43mconn\u001B[49m\u001B[43m)\u001B[49m\n\u001B[1;32m    405\u001B[0m \u001B[38;5;28;01mexcept\u001B[39;00m (SocketTimeout, BaseSSLError) \u001B[38;5;28;01mas\u001B[39;00m e:\n\u001B[1;32m    406\u001B[0m     \u001B[38;5;66;03m# Py2 raises this as a BaseSSLError, Py3 raises it as socket timeout.\u001B[39;00m\n\u001B[1;32m    407\u001B[0m     \u001B[38;5;28mself\u001B[39m\u001B[38;5;241m.\u001B[39m_raise_timeout(err\u001B[38;5;241m=\u001B[39me, url\u001B[38;5;241m=\u001B[39murl, timeout_value\u001B[38;5;241m=\u001B[39mconn\u001B[38;5;241m.\u001B[39mtimeout)\n",
      "File \u001B[0;32m~/Library/Caches/pypoetry/virtualenvs/rag-support-I_qEI_ln-py3.10/lib/python3.10/site-packages/urllib3/connectionpool.py:1058\u001B[0m, in \u001B[0;36mHTTPSConnectionPool._validate_conn\u001B[0;34m(self, conn)\u001B[0m\n\u001B[1;32m   1056\u001B[0m \u001B[38;5;66;03m# Force connect early to allow us to validate the connection.\u001B[39;00m\n\u001B[1;32m   1057\u001B[0m \u001B[38;5;28;01mif\u001B[39;00m \u001B[38;5;129;01mnot\u001B[39;00m \u001B[38;5;28mgetattr\u001B[39m(conn, \u001B[38;5;124m\"\u001B[39m\u001B[38;5;124msock\u001B[39m\u001B[38;5;124m\"\u001B[39m, \u001B[38;5;28;01mNone\u001B[39;00m):  \u001B[38;5;66;03m# AppEngine might not have  `.sock`\u001B[39;00m\n\u001B[0;32m-> 1058\u001B[0m     \u001B[43mconn\u001B[49m\u001B[38;5;241;43m.\u001B[39;49m\u001B[43mconnect\u001B[49m\u001B[43m(\u001B[49m\u001B[43m)\u001B[49m\n\u001B[1;32m   1060\u001B[0m \u001B[38;5;28;01mif\u001B[39;00m \u001B[38;5;129;01mnot\u001B[39;00m conn\u001B[38;5;241m.\u001B[39mis_verified:\n\u001B[1;32m   1061\u001B[0m     warnings\u001B[38;5;241m.\u001B[39mwarn(\n\u001B[1;32m   1062\u001B[0m         (\n\u001B[1;32m   1063\u001B[0m             \u001B[38;5;124m\"\u001B[39m\u001B[38;5;124mUnverified HTTPS request is being made to host \u001B[39m\u001B[38;5;124m'\u001B[39m\u001B[38;5;132;01m%s\u001B[39;00m\u001B[38;5;124m'\u001B[39m\u001B[38;5;124m. \u001B[39m\u001B[38;5;124m\"\u001B[39m\n\u001B[0;32m   (...)\u001B[0m\n\u001B[1;32m   1068\u001B[0m         InsecureRequestWarning,\n\u001B[1;32m   1069\u001B[0m     )\n",
      "File \u001B[0;32m~/Library/Caches/pypoetry/virtualenvs/rag-support-I_qEI_ln-py3.10/lib/python3.10/site-packages/urllib3/connection.py:363\u001B[0m, in \u001B[0;36mHTTPSConnection.connect\u001B[0;34m(self)\u001B[0m\n\u001B[1;32m    361\u001B[0m \u001B[38;5;28;01mdef\u001B[39;00m \u001B[38;5;21mconnect\u001B[39m(\u001B[38;5;28mself\u001B[39m):\n\u001B[1;32m    362\u001B[0m     \u001B[38;5;66;03m# Add certificate verification\u001B[39;00m\n\u001B[0;32m--> 363\u001B[0m     \u001B[38;5;28mself\u001B[39m\u001B[38;5;241m.\u001B[39msock \u001B[38;5;241m=\u001B[39m conn \u001B[38;5;241m=\u001B[39m \u001B[38;5;28;43mself\u001B[39;49m\u001B[38;5;241;43m.\u001B[39;49m\u001B[43m_new_conn\u001B[49m\u001B[43m(\u001B[49m\u001B[43m)\u001B[49m\n\u001B[1;32m    364\u001B[0m     hostname \u001B[38;5;241m=\u001B[39m \u001B[38;5;28mself\u001B[39m\u001B[38;5;241m.\u001B[39mhost\n\u001B[1;32m    365\u001B[0m     tls_in_tls \u001B[38;5;241m=\u001B[39m \u001B[38;5;28;01mFalse\u001B[39;00m\n",
      "File \u001B[0;32m~/Library/Caches/pypoetry/virtualenvs/rag-support-I_qEI_ln-py3.10/lib/python3.10/site-packages/urllib3/connection.py:174\u001B[0m, in \u001B[0;36mHTTPConnection._new_conn\u001B[0;34m(self)\u001B[0m\n\u001B[1;32m    171\u001B[0m     extra_kw[\u001B[38;5;124m\"\u001B[39m\u001B[38;5;124msocket_options\u001B[39m\u001B[38;5;124m\"\u001B[39m] \u001B[38;5;241m=\u001B[39m \u001B[38;5;28mself\u001B[39m\u001B[38;5;241m.\u001B[39msocket_options\n\u001B[1;32m    173\u001B[0m \u001B[38;5;28;01mtry\u001B[39;00m:\n\u001B[0;32m--> 174\u001B[0m     conn \u001B[38;5;241m=\u001B[39m \u001B[43mconnection\u001B[49m\u001B[38;5;241;43m.\u001B[39;49m\u001B[43mcreate_connection\u001B[49m\u001B[43m(\u001B[49m\n\u001B[1;32m    175\u001B[0m \u001B[43m        \u001B[49m\u001B[43m(\u001B[49m\u001B[38;5;28;43mself\u001B[39;49m\u001B[38;5;241;43m.\u001B[39;49m\u001B[43m_dns_host\u001B[49m\u001B[43m,\u001B[49m\u001B[43m \u001B[49m\u001B[38;5;28;43mself\u001B[39;49m\u001B[38;5;241;43m.\u001B[39;49m\u001B[43mport\u001B[49m\u001B[43m)\u001B[49m\u001B[43m,\u001B[49m\u001B[43m \u001B[49m\u001B[38;5;28;43mself\u001B[39;49m\u001B[38;5;241;43m.\u001B[39;49m\u001B[43mtimeout\u001B[49m\u001B[43m,\u001B[49m\u001B[43m \u001B[49m\u001B[38;5;241;43m*\u001B[39;49m\u001B[38;5;241;43m*\u001B[39;49m\u001B[43mextra_kw\u001B[49m\n\u001B[1;32m    176\u001B[0m \u001B[43m    \u001B[49m\u001B[43m)\u001B[49m\n\u001B[1;32m    178\u001B[0m \u001B[38;5;28;01mexcept\u001B[39;00m SocketTimeout:\n\u001B[1;32m    179\u001B[0m     \u001B[38;5;28;01mraise\u001B[39;00m ConnectTimeoutError(\n\u001B[1;32m    180\u001B[0m         \u001B[38;5;28mself\u001B[39m,\n\u001B[1;32m    181\u001B[0m         \u001B[38;5;124m\"\u001B[39m\u001B[38;5;124mConnection to \u001B[39m\u001B[38;5;132;01m%s\u001B[39;00m\u001B[38;5;124m timed out. (connect timeout=\u001B[39m\u001B[38;5;132;01m%s\u001B[39;00m\u001B[38;5;124m)\u001B[39m\u001B[38;5;124m\"\u001B[39m\n\u001B[1;32m    182\u001B[0m         \u001B[38;5;241m%\u001B[39m (\u001B[38;5;28mself\u001B[39m\u001B[38;5;241m.\u001B[39mhost, \u001B[38;5;28mself\u001B[39m\u001B[38;5;241m.\u001B[39mtimeout),\n\u001B[1;32m    183\u001B[0m     )\n",
      "File \u001B[0;32m~/Library/Caches/pypoetry/virtualenvs/rag-support-I_qEI_ln-py3.10/lib/python3.10/site-packages/urllib3/util/connection.py:72\u001B[0m, in \u001B[0;36mcreate_connection\u001B[0;34m(address, timeout, source_address, socket_options)\u001B[0m\n\u001B[1;32m     67\u001B[0m \u001B[38;5;28;01mexcept\u001B[39;00m \u001B[38;5;167;01mUnicodeError\u001B[39;00m:\n\u001B[1;32m     68\u001B[0m     \u001B[38;5;28;01mreturn\u001B[39;00m six\u001B[38;5;241m.\u001B[39mraise_from(\n\u001B[1;32m     69\u001B[0m         LocationParseError(\u001B[38;5;124mu\u001B[39m\u001B[38;5;124m\"\u001B[39m\u001B[38;5;124m'\u001B[39m\u001B[38;5;132;01m%s\u001B[39;00m\u001B[38;5;124m'\u001B[39m\u001B[38;5;124m, label empty or too long\u001B[39m\u001B[38;5;124m\"\u001B[39m \u001B[38;5;241m%\u001B[39m host), \u001B[38;5;28;01mNone\u001B[39;00m\n\u001B[1;32m     70\u001B[0m     )\n\u001B[0;32m---> 72\u001B[0m \u001B[38;5;28;01mfor\u001B[39;00m res \u001B[38;5;129;01min\u001B[39;00m \u001B[43msocket\u001B[49m\u001B[38;5;241;43m.\u001B[39;49m\u001B[43mgetaddrinfo\u001B[49m\u001B[43m(\u001B[49m\u001B[43mhost\u001B[49m\u001B[43m,\u001B[49m\u001B[43m \u001B[49m\u001B[43mport\u001B[49m\u001B[43m,\u001B[49m\u001B[43m \u001B[49m\u001B[43mfamily\u001B[49m\u001B[43m,\u001B[49m\u001B[43m \u001B[49m\u001B[43msocket\u001B[49m\u001B[38;5;241;43m.\u001B[39;49m\u001B[43mSOCK_STREAM\u001B[49m\u001B[43m)\u001B[49m:\n\u001B[1;32m     73\u001B[0m     af, socktype, proto, canonname, sa \u001B[38;5;241m=\u001B[39m res\n\u001B[1;32m     74\u001B[0m     sock \u001B[38;5;241m=\u001B[39m \u001B[38;5;28;01mNone\u001B[39;00m\n",
      "File \u001B[0;32m/Library/Frameworks/Python.framework/Versions/3.10/lib/python3.10/socket.py:955\u001B[0m, in \u001B[0;36mgetaddrinfo\u001B[0;34m(host, port, family, type, proto, flags)\u001B[0m\n\u001B[1;32m    952\u001B[0m \u001B[38;5;66;03m# We override this function since we want to translate the numeric family\u001B[39;00m\n\u001B[1;32m    953\u001B[0m \u001B[38;5;66;03m# and socket type values to enum constants.\u001B[39;00m\n\u001B[1;32m    954\u001B[0m addrlist \u001B[38;5;241m=\u001B[39m []\n\u001B[0;32m--> 955\u001B[0m \u001B[38;5;28;01mfor\u001B[39;00m res \u001B[38;5;129;01min\u001B[39;00m \u001B[43m_socket\u001B[49m\u001B[38;5;241;43m.\u001B[39;49m\u001B[43mgetaddrinfo\u001B[49m\u001B[43m(\u001B[49m\u001B[43mhost\u001B[49m\u001B[43m,\u001B[49m\u001B[43m \u001B[49m\u001B[43mport\u001B[49m\u001B[43m,\u001B[49m\u001B[43m \u001B[49m\u001B[43mfamily\u001B[49m\u001B[43m,\u001B[49m\u001B[43m \u001B[49m\u001B[38;5;28;43mtype\u001B[39;49m\u001B[43m,\u001B[49m\u001B[43m \u001B[49m\u001B[43mproto\u001B[49m\u001B[43m,\u001B[49m\u001B[43m \u001B[49m\u001B[43mflags\u001B[49m\u001B[43m)\u001B[49m:\n\u001B[1;32m    956\u001B[0m     af, socktype, proto, canonname, sa \u001B[38;5;241m=\u001B[39m res\n\u001B[1;32m    957\u001B[0m     addrlist\u001B[38;5;241m.\u001B[39mappend((_intenum_converter(af, AddressFamily),\n\u001B[1;32m    958\u001B[0m                      _intenum_converter(socktype, SocketKind),\n\u001B[1;32m    959\u001B[0m                      proto, canonname, sa))\n",
      "\u001B[0;31mKeyboardInterrupt\u001B[0m: "
     ]
    }
   ],
   "source": [
    "def get_embeddings(text):\n",
    "    sleep(0.5)\n",
    "    return embeddings.text_embedding(text)[\"embedding\"]\n",
    "\n",
    "embeddings = yandexgpt.Embeddings(os.getenv(\"YANDEX_GPT_KEY\"), \n",
    "                                  os.getenv(\"YANDEX_GPT_EMBEDDINGS_URI\")\n",
    "                                  )\n",
    "chunk_embeddings = []\n",
    "for txt in tqdm(chunks_df[\"chunk\"]):\n",
    "    chunk_embeddings.append(get_embeddings(txt))\n",
    "chunks_df[\"chunk_embeddings\"] = chunk_embeddings"
   ],
   "metadata": {
    "collapsed": false,
    "ExecuteTime": {
     "end_time": "2024-01-06T16:40:33.325946Z",
     "start_time": "2024-01-06T16:40:29.578317Z"
    }
   },
   "id": "7898908eba0cda6e"
  },
  {
   "cell_type": "code",
   "execution_count": null,
   "outputs": [],
   "source": [
    "chunks_df.to_csv(\"data/site_chunks_with_embeddings.csv\", index=False)"
   ],
   "metadata": {
    "collapsed": false,
    "ExecuteTime": {
     "end_time": "2024-01-06T16:40:33.326765Z",
     "start_time": "2024-01-06T16:40:33.326276Z"
    }
   },
   "id": "c6bf6ad1ee245303"
  },
  {
   "cell_type": "markdown",
   "source": [
    "# Store embeddings"
   ],
   "metadata": {
    "collapsed": false
   },
   "id": "3f505ebe041cabb"
  },
  {
   "cell_type": "code",
   "execution_count": 53,
   "outputs": [],
   "source": [
    "chroma_client = chromadb.HttpClient(host='localhost', \n",
    "                                    port=\"8000\", \n",
    "                                    settings=Settings(anonymized_telemetry=False))\n",
    "collection = chroma_client.get_or_create_collection(\"intents\")"
   ],
   "metadata": {
    "collapsed": false,
    "ExecuteTime": {
     "end_time": "2024-01-06T17:13:27.370190Z",
     "start_time": "2024-01-06T17:13:27.255882Z"
    }
   },
   "id": "92d2dff4b435ad61"
  },
  {
   "cell_type": "code",
   "execution_count": 54,
   "outputs": [
    {
     "data": {
      "text/plain": "                                                  chunk  \\\n0     # Лидер автоматизации  бизнеса на маркетплейса...   \n1     ](https://selsup.ru/product_base/)\\n\\nПоставки...   \n2     выложить 30 000 карточек на WB и Ozon, отзыв к...   \n3     ь в Реестре Программного Обеспечения РФ: №1176...   \n4     [SelSup](https://selsup.ru \"Перейти к SelSup.\"...   \n...                                                 ...   \n3499  о понимает, кто, где,\\nкогда произвёл товар, к...   \n3500  mp/)\\n  * …\\n  * [15](https://selsup.ru/news-m...   \n3501  # Обучение и новости\\n\\nУзнайте первым лайфхак...   \n3502  up.ru/blog/komissii-ozon-2023/)\\n\\n18.04.2023\\...   \n3503  berries/)\\n\\n[![Как сделать этикетку самому: т...   \n\n                                       chunk_embeddings  \n0     [0.072265625, -0.09075927734375, -0.0117340087...  \n1     [0.04364013671875, -0.04766845703125, 0.014595...  \n2     [0.1107177734375, -0.005817413330078125, -0.01...  \n3     [-0.033660888671875, 0.01041412353515625, 0.01...  \n4     [0.0105438232421875, -0.072265625, 0.026458740...  \n...                                                 ...  \n3499  [0.057830810546875, 0.03997802734375, -0.00161...  \n3500  [0.0268707275390625, -0.0723876953125, 0.06195...  \n3501  [0.043731689453125, -0.0289764404296875, 0.075...  \n3502  [0.07952880859375, -0.053497314453125, 0.02996...  \n3503  [0.034820556640625, 0.04681396484375, -0.01921...  \n\n[3504 rows x 2 columns]",
      "text/html": "<div>\n<style scoped>\n    .dataframe tbody tr th:only-of-type {\n        vertical-align: middle;\n    }\n\n    .dataframe tbody tr th {\n        vertical-align: top;\n    }\n\n    .dataframe thead th {\n        text-align: right;\n    }\n</style>\n<table border=\"1\" class=\"dataframe\">\n  <thead>\n    <tr style=\"text-align: right;\">\n      <th></th>\n      <th>chunk</th>\n      <th>chunk_embeddings</th>\n    </tr>\n  </thead>\n  <tbody>\n    <tr>\n      <th>0</th>\n      <td># Лидер автоматизации  бизнеса на маркетплейса...</td>\n      <td>[0.072265625, -0.09075927734375, -0.0117340087...</td>\n    </tr>\n    <tr>\n      <th>1</th>\n      <td>](https://selsup.ru/product_base/)\\n\\nПоставки...</td>\n      <td>[0.04364013671875, -0.04766845703125, 0.014595...</td>\n    </tr>\n    <tr>\n      <th>2</th>\n      <td>выложить 30 000 карточек на WB и Ozon, отзыв к...</td>\n      <td>[0.1107177734375, -0.005817413330078125, -0.01...</td>\n    </tr>\n    <tr>\n      <th>3</th>\n      <td>ь в Реестре Программного Обеспечения РФ: №1176...</td>\n      <td>[-0.033660888671875, 0.01041412353515625, 0.01...</td>\n    </tr>\n    <tr>\n      <th>4</th>\n      <td>[SelSup](https://selsup.ru \"Перейти к SelSup.\"...</td>\n      <td>[0.0105438232421875, -0.072265625, 0.026458740...</td>\n    </tr>\n    <tr>\n      <th>...</th>\n      <td>...</td>\n      <td>...</td>\n    </tr>\n    <tr>\n      <th>3499</th>\n      <td>о понимает, кто, где,\\nкогда произвёл товар, к...</td>\n      <td>[0.057830810546875, 0.03997802734375, -0.00161...</td>\n    </tr>\n    <tr>\n      <th>3500</th>\n      <td>mp/)\\n  * …\\n  * [15](https://selsup.ru/news-m...</td>\n      <td>[0.0268707275390625, -0.0723876953125, 0.06195...</td>\n    </tr>\n    <tr>\n      <th>3501</th>\n      <td># Обучение и новости\\n\\nУзнайте первым лайфхак...</td>\n      <td>[0.043731689453125, -0.0289764404296875, 0.075...</td>\n    </tr>\n    <tr>\n      <th>3502</th>\n      <td>up.ru/blog/komissii-ozon-2023/)\\n\\n18.04.2023\\...</td>\n      <td>[0.07952880859375, -0.053497314453125, 0.02996...</td>\n    </tr>\n    <tr>\n      <th>3503</th>\n      <td>berries/)\\n\\n[![Как сделать этикетку самому: т...</td>\n      <td>[0.034820556640625, 0.04681396484375, -0.01921...</td>\n    </tr>\n  </tbody>\n</table>\n<p>3504 rows × 2 columns</p>\n</div>"
     },
     "execution_count": 54,
     "metadata": {},
     "output_type": "execute_result"
    }
   ],
   "source": [
    "chunks_df = pd.read_csv(\"data/site_chunks_with_embeddings.csv\")\n",
    "chunks_df"
   ],
   "metadata": {
    "collapsed": false,
    "ExecuteTime": {
     "end_time": "2024-01-06T17:13:33.606244Z",
     "start_time": "2024-01-06T17:13:33.211613Z"
    }
   },
   "id": "1722cf7fed3d1330"
  },
  {
   "cell_type": "code",
   "execution_count": 73,
   "outputs": [],
   "source": [
    "chunk_embeddings = list(\n",
    "    map(\n",
    "        lambda str_arr: ast.literal_eval(str_arr), \n",
    "        chunks_df[\"chunk_embeddings\"].tolist()\n",
    "    )\n",
    ")\n",
    "collection.upsert(\n",
    "    ids=list(map(lambda x: f\"site{x}\", chunks_df.index.to_list())),\n",
    "    embeddings=chunk_embeddings,\n",
    "    metadatas=[{\"source\": \"site\", \"text\": txt} for txt in chunks_df[\"chunk\"]],\n",
    "    documents=chunks_df[\"chunk\"].to_list()\n",
    ")"
   ],
   "metadata": {
    "collapsed": false,
    "ExecuteTime": {
     "end_time": "2024-01-06T17:25:43.848398Z",
     "start_time": "2024-01-06T17:25:31.112255Z"
    }
   },
   "id": "a044292062c60eb3"
  },
  {
   "cell_type": "code",
   "execution_count": 74,
   "outputs": [
    {
     "data": {
      "text/plain": "15733"
     },
     "execution_count": 74,
     "metadata": {},
     "output_type": "execute_result"
    }
   ],
   "source": [
    "collection.count()"
   ],
   "metadata": {
    "collapsed": false,
    "ExecuteTime": {
     "end_time": "2024-01-06T17:26:01.414398Z",
     "start_time": "2024-01-06T17:26:01.123624Z"
    }
   },
   "id": "b96a726080ab2e1e"
  },
  {
   "cell_type": "code",
   "execution_count": null,
   "outputs": [],
   "source": [],
   "metadata": {
    "collapsed": false
   },
   "id": "38a56c243c353e02"
  }
 ],
 "metadata": {
  "kernelspec": {
   "display_name": "Python 3",
   "language": "python",
   "name": "python3"
  },
  "language_info": {
   "codemirror_mode": {
    "name": "ipython",
    "version": 2
   },
   "file_extension": ".py",
   "mimetype": "text/x-python",
   "name": "python",
   "nbconvert_exporter": "python",
   "pygments_lexer": "ipython2",
   "version": "2.7.6"
  }
 },
 "nbformat": 4,
 "nbformat_minor": 5
}
